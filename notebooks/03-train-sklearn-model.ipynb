{
  "cells": [
    {
      "cell_type": "markdown",
      "id": "1cce0efa",
      "metadata": {},
      "source": [
        "# Training scikit-learn LinearRegression model\n",
        "\n",
        "Here, I will train the LinearRegression model provided in scikit-learn. Metrics to evaluate the model will be presented afterwards."
      ],
      "execution_count": null
    },
    {
      "cell_type": "code",
      "execution_count": null,
      "id": "bace8341",
      "metadata": {},
      "outputs": [],
      "source": [
        "# Import packages\n",
        "import pandas as pd\n",
        "import matplotlib.pyplot as plt\n",
        "import sklearn\n",
        "from sklearn.linear_model import LinearRegression\n",
        "from sklearn.metrics import mean_squared_error, r2_score\n",
        "\n",
        "# Adjust display settings\n",
        "sklearn.set_config(display= \"text\")\n",
        "pd.set_option(\"display.max_columns\", None)\n",
        "%matplotlib inline"
      ]
    },
    {
      "cell_type": "markdown",
      "id": "4b30e059",
      "metadata": {},
      "source": [
        "# Train on: preprocessed data, dataset 1"
      ],
      "execution_count": null
    },
    {
      "cell_type": "code",
      "execution_count": null,
      "id": "1e903bad",
      "metadata": {},
      "outputs": [],
      "source": [
        "# Load preprocessed data\n",
        "\n",
        "train = pd.read_csv(\"../data/processed/train.csv\")\n",
        "test = pd.read_csv(\"../data/processed/test.csv\")\n",
        "\n",
        "X_train = train.drop(\"target\", axis= 1).values\n",
        "y_train = train[\"target\"].values\n",
        "X_test = test.drop(\"target\", axis= 1).values\n",
        "y_test = test[\"target\"].values"
      ]
    },
    {
      "cell_type": "code",
      "execution_count": null,
      "id": "d9276a60",
      "metadata": {},
      "outputs": [
        {
          "data": {
            "text/plain": [
              "LinearRegression()"
            ]
          },
          "execution_count": 3,
          "metadata": {},
          "output_type": "execute_result"
        }
      ],
      "source": [
        "# Fit model\n",
        "model_sklearn = LinearRegression()\n",
        "model_sklearn.fit(X_train, y_train)"
      ]
    },
    {
      "cell_type": "code",
      "execution_count": null,
      "id": "54ca9cbd",
      "metadata": {},
      "outputs": [],
      "source": [
        "# Predict\n",
        "y_pred_sklearn = model_sklearn.predict(X_test)"
      ]
    },
    {
      "cell_type": "code",
      "execution_count": null,
      "id": "61cf7e24",
      "metadata": {},
      "outputs": [
        {
          "name": "stdout",
          "output_type": "stream",
          "text": [
            "sklearn model: MSE = 0.0098, R-Squared = 1.0000\n"
          ]
        }
      ],
      "source": [
        "# Evaluate with metrics\n",
        "\n",
        "mse_sklearn = mean_squared_error(y_test, y_pred_sklearn)\n",
        "\n",
        "r2_sklearn = r2_score(y_test, y_pred_sklearn)\n",
        "\n",
        "print(f\"sklearn model: MSE = {mse_sklearn:.4f}, R-Squared = {r2_sklearn:.4f}\")"
      ]
    }
  ],
  "metadata": {},
  "nbformat": 4,
  "nbformat_minor": 5
}
