{
  "cells": [
    {
      "cell_type": "markdown",
      "id": "1c049e2b",
      "metadata": {},
      "source": [
        "# Training from-scratch linear regression model\n",
        "\n",
        "Here, I will train the linear regression model with batch gradient descent built from scratch. Metrics to evaluate the model will be presented afterwards."
      ],
      "execution_count": null
    },
    {
      "cell_type": "code",
      "execution_count": null,
      "id": "ab2c57ee",
      "metadata": {},
      "outputs": [],
      "source": [
        "# Import sys package and add relative path so src can be reached\n",
        "import sys\n",
        "sys.path.append(\"..\")\n",
        "\n",
        "# Import additional packages\n",
        "import pandas as pd\n",
        "import matplotlib.pyplot as plt\n",
        "import json\n",
        "import os\n",
        "from sklearn.metrics import mean_squared_error, r2_score\n",
        "\n",
        "# Import the model class from the from-scratch model\n",
        "from src.linear_reg_from_scratch import LinearRegFromScratch\n",
        "\n",
        "# Adjust display settings\n",
        "pd.set_option(\"display.max_columns\", None)\n",
        "%matplotlib inline"
      ]
    },
    {
      "cell_type": "markdown",
      "id": "e7d9de9d",
      "metadata": {},
      "source": [
        "# Train on: preprocessed data, dataset 1"
      ],
      "execution_count": null
    },
    {
      "cell_type": "code",
      "execution_count": null,
      "id": "cd23c426",
      "metadata": {},
      "outputs": [],
      "source": [
        "# Load preprocessed data\n",
        "\n",
        "train = pd.read_csv(\"../data/processed/train.csv\")\n",
        "test = pd.read_csv(\"../data/processed/test.csv\")\n",
        "\n",
        "X_train = train.drop(\"target\", axis= 1).values\n",
        "y_train = train[\"target\"].values\n",
        "X_test = test.drop(\"target\", axis= 1).values\n",
        "y_test = test[\"target\"].values"
      ]
    },
    {
      "cell_type": "code",
      "execution_count": null,
      "id": "8764ac11",
      "metadata": {},
      "outputs": [
        {
          "name": "stdout",
          "output_type": "stream",
          "text": [
            "Iteration 100, cost = 1170.307707341779\n",
            "Iteration 200, cost = 158.29639970948148\n",
            "Iteration 300, cost = 21.427441469995546\n",
            "Iteration 400, cost = 2.905679739374242\n",
            "Iteration 500, cost = 0.39763426507370286\n",
            "Iteration 600, cost = 0.057786909539438394\n",
            "Iteration 700, cost = 0.011703035317520911\n",
            "Iteration 800, cost = 0.005449096753904045\n",
            "Iteration 900, cost = 0.004599676693406218\n",
            "Iteration 1000, cost = 0.004484203204343002\n",
            "Converged at iteration 1066 with cost = 0.004470892124740759\n",
            "LinearRegFromScratch(learning rate = 0.01, n iterations = 1500, loss tolerance = 1e-07)\n",
            "weights = [94.5011 49.0403  5.4685 75.1761  4.3804]\n",
            "bias = 3.1864\n"
          ]
        }
      ],
      "source": [
        "# Initialize model\n",
        "model_own = LinearRegFromScratch(\n",
        "    learning_rate= 0.01,\n",
        "    n_iterations= 1500,\n",
        "    tol_loss= 1e-7,\n",
        "    print_every= 100\n",
        ")\n",
        "\n",
        "# Fit model\n",
        "model_own.fit(X_train, y_train)\n",
        "\n",
        "# Print summary\n",
        "print(model_own)"
      ]
    },
    {
      "cell_type": "code",
      "execution_count": null,
      "id": "ac3b3108",
      "metadata": {},
      "outputs": [],
      "source": [
        "# Predict\n",
        "y_pred_own = model_own.predict(X_test)"
      ]
    },
    {
      "cell_type": "code",
      "execution_count": null,
      "id": "fb4424e0",
      "metadata": {},
      "outputs": [
        {
          "name": "stdout",
          "output_type": "stream",
          "text": [
            "Own model: MSE = 0.0099, R-Squared = 1.0000\n"
          ]
        }
      ],
      "source": [
        "# Evaluate with metrics\n",
        "\n",
        "mse_own = mean_squared_error(y_test, y_pred_own)\n",
        "\n",
        "r2_own = r2_score(y_test, y_pred_own)\n",
        "\n",
        "print(f\"Own model: MSE = {mse_own:.4f}, R-Squared = {r2_own:.4f}\")"
      ]
    },
    {
      "cell_type": "code",
      "execution_count": null,
      "id": "440e73ac",
      "metadata": {},
      "outputs": [],
      "source": [
        "# Save results\n",
        "\n",
        "os.makedirs(\"../data/results\", exist_ok= True)\n",
        "with open(\"../data/results/metrics_own.json\", \"w\") as f:\n",
        "    json.dump(\n",
        "        {\"Model\": \"Own with batch GD\", \"MSE\": mse_own, \"R-Squared\": r2_own},\n",
        "        f,\n",
        "        indent= 2\n",
        "    )"
      ]
    }
  ],
  "metadata": {},
  "nbformat": 4,
  "nbformat_minor": 5
}
