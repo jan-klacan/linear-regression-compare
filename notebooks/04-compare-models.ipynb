{
  "cells": [
    {
      "cell_type": "markdown",
      "id": "665ee7a5",
      "metadata": {},
      "source": [
        "# Comparing the model metrics\n",
        "\n",
        "The purpose of this notebook is to compare metrics from the models. For now, the models that will be compared are the ones trained on data from dataset 1."
      ],
      "execution_count": null
    },
    {
      "cell_type": "code",
      "execution_count": null,
      "id": "fcd615b4",
      "metadata": {},
      "outputs": [],
      "source": [
        "# Import packages\n",
        "import pandas as pd\n",
        "import matplotlib.pyplot as plt\n",
        "import json\n",
        "import glob\n",
        "\n",
        "# Adjust display settings\n",
        "pd.set_option(\"display.max_columns\", None)\n",
        "%matplotlib inline"
      ]
    },
    {
      "cell_type": "code",
      "execution_count": null,
      "id": "90057ec0",
      "metadata": {},
      "outputs": [
        {
          "data": {
            "text/html": [
              "<div>\n",
              "<style scoped>\n",
              "    .dataframe tbody tr th:only-of-type {\n",
              "        vertical-align: middle;\n",
              "    }\n",
              "\n",
              "    .dataframe tbody tr th {\n",
              "        vertical-align: top;\n",
              "    }\n",
              "\n",
              "    .dataframe thead th {\n",
              "        text-align: right;\n",
              "    }\n",
              "</style>\n",
              "<table border=\"1\" class=\"dataframe\">\n",
              "  <thead>\n",
              "    <tr style=\"text-align: right;\">\n",
              "      <th></th>\n",
              "      <th>Model</th>\n",
              "      <th>MSE</th>\n",
              "      <th>R-Squared</th>\n",
              "    </tr>\n",
              "  </thead>\n",
              "  <tbody>\n",
              "    <tr>\n",
              "      <th>0</th>\n",
              "      <td>Own with batch GD</td>\n",
              "      <td>0.009868</td>\n",
              "      <td>0.999999</td>\n",
              "    </tr>\n",
              "    <tr>\n",
              "      <th>1</th>\n",
              "      <td>sklearn LinearRegression</td>\n",
              "      <td>0.009819</td>\n",
              "      <td>0.999999</td>\n",
              "    </tr>\n",
              "  </tbody>\n",
              "</table>\n",
              "</div>"
            ],
            "text/plain": [
              "                      Model       MSE  R-Squared\n",
              "0         Own with batch GD  0.009868   0.999999\n",
              "1  sklearn LinearRegression  0.009819   0.999999"
            ]
          },
          "execution_count": 11,
          "metadata": {},
          "output_type": "execute_result"
        }
      ],
      "source": [
        "# Load metrics and put into dataframe\n",
        "\n",
        "results = []\n",
        "\n",
        "for path in sorted(glob.glob(\"../data/results/metrics_*.json\")):\n",
        "    with open(path, \"r\") as f:\n",
        "        results.append(json.load(f))\n",
        "\n",
        "df = pd.DataFrame(results)\n",
        "\n",
        "df"
      ]
    }
  ],
  "metadata": {},
  "nbformat": 4,
  "nbformat_minor": 5
}
